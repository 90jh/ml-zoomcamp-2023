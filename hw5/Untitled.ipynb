{
 "cells": [
  {
   "cell_type": "code",
   "execution_count": 4,
   "id": "5399a215-9215-4641-98e1-9c21797d787e",
   "metadata": {},
   "outputs": [
    {
     "data": {
      "text/plain": [
       "'\\npipenv --version\\npipenv, version 2023.10.3\\n'"
      ]
     },
     "execution_count": 4,
     "metadata": {},
     "output_type": "execute_result"
    }
   ],
   "source": [
    "# Q1\n",
    "'''\n",
    "pipenv --version\n",
    "pipenv, version 2023.10.3\n",
    "'''"
   ]
  },
  {
   "cell_type": "code",
   "execution_count": 5,
   "id": "861ddf97-91b1-47ea-af76-0db19a078627",
   "metadata": {},
   "outputs": [
    {
     "data": {
      "text/plain": [
       "'\\n\"hash\": {\\n            \"sha256\": \"608da8afe5683a80df5aff747ac44a3f971cd864791370ab84ea725464f3ecd5\"\\n        }\\n'"
      ]
     },
     "execution_count": 5,
     "metadata": {},
     "output_type": "execute_result"
    }
   ],
   "source": [
    "# Q2\n",
    "'''\n",
    "\"hash\": {\n",
    "            \"sha256\": \"608da8afe5683a80df5aff747ac44a3f971cd864791370ab84ea725464f3ecd5\"\n",
    "        }\n",
    "'''"
   ]
  },
  {
   "cell_type": "code",
   "execution_count": 2,
   "id": "3247d686-ffb9-4d02-bb66-d484cfd5e43c",
   "metadata": {},
   "outputs": [],
   "source": [
    "import pandas as pd\n",
    "import pickle\n",
    "import sklearn"
   ]
  },
  {
   "cell_type": "code",
   "execution_count": 4,
   "id": "4c9bc63d-9b68-4940-841b-9844b916497d",
   "metadata": {},
   "outputs": [
    {
     "name": "stderr",
     "output_type": "stream",
     "text": [
      "/Users/jonathan/miniconda3/envs/ml-zoomcamp/lib/python3.11/site-packages/sklearn/base.py:347: InconsistentVersionWarning: Trying to unpickle estimator LogisticRegression from version 1.3.1 when using version 1.3.0. This might lead to breaking code or invalid results. Use at your own risk. For more info please refer to:\n",
      "https://scikit-learn.org/stable/model_persistence.html#security-maintainability-limitations\n",
      "  warnings.warn(\n"
     ]
    }
   ],
   "source": [
    "with open ('dv.bin', 'rb') as f_in:\n",
    "    dv = pickle.load(f_in)\n",
    "\n",
    "with open('model1.bin', 'rb') as f_in:\n",
    "    model = pickle.load(f_in)"
   ]
  },
  {
   "cell_type": "code",
   "execution_count": 5,
   "id": "c74e57e2-fbb8-40fe-af0a-26c52e14afda",
   "metadata": {},
   "outputs": [
    {
     "data": {
      "text/plain": [
       "(DictVectorizer(sparse=False), LogisticRegression())"
      ]
     },
     "execution_count": 5,
     "metadata": {},
     "output_type": "execute_result"
    }
   ],
   "source": [
    "dv, model"
   ]
  },
  {
   "cell_type": "code",
   "execution_count": 6,
   "id": "7a05aa58",
   "metadata": {},
   "outputs": [],
   "source": [
    "client = {\n",
    "    \"job\": \"retired\", \n",
    "    \"duration\": 445, \n",
    "    \"poutcome\": \"success\"\n",
    "}"
   ]
  },
  {
   "cell_type": "code",
   "execution_count": 8,
   "id": "7dac45be",
   "metadata": {},
   "outputs": [],
   "source": [
    "X = dv.transform([client])"
   ]
  },
  {
   "cell_type": "code",
   "execution_count": 12,
   "id": "e2f088bf",
   "metadata": {},
   "outputs": [
    {
     "data": {
      "text/plain": [
       "array([[0.09806907, 0.90193093]])"
      ]
     },
     "execution_count": 12,
     "metadata": {},
     "output_type": "execute_result"
    }
   ],
   "source": [
    "# Q3\n",
    "# 0.902\n",
    "# model.predict_proba(X)"
   ]
  },
  {
   "cell_type": "code",
   "execution_count": 21,
   "id": "8c8e5ebd",
   "metadata": {},
   "outputs": [
    {
     "data": {
      "text/plain": [
       "{'approval': False, 'credit_probability': 0.13968947052356817}"
      ]
     },
     "execution_count": 21,
     "metadata": {},
     "output_type": "execute_result"
    }
   ],
   "source": [
    "# Q4\n",
    "# 0.140\n",
    "\n",
    "import requests\n",
    "\n",
    "url = 'http://localhost:5000/predict'\n",
    "\n",
    "client = {\n",
    "    \"job\": \"unknown\", \n",
    "    \"duration\": 270, \n",
    "    \"poutcome\": \"failure\"\n",
    "}\n",
    "\n",
    "requests.post(url, json=client).json()"
   ]
  },
  {
   "cell_type": "code",
   "execution_count": 1,
   "id": "efcb435a",
   "metadata": {},
   "outputs": [
    {
     "data": {
      "text/plain": [
       "'\\n% docker pull svizor/zoomcamp-model:3.10.12-slim\\n147 MB\\n\\n'"
      ]
     },
     "execution_count": 1,
     "metadata": {},
     "output_type": "execute_result"
    }
   ],
   "source": [
    "# Q5\n",
    "'''\n",
    "% docker pull svizor/zoomcamp-model:3.10.12-slim\n",
    "\n",
    "147 MB\n",
    "'''"
   ]
  },
  {
   "cell_type": "code",
   "execution_count": 1,
   "id": "b8d43ed7",
   "metadata": {},
   "outputs": [
    {
     "data": {
      "text/plain": [
       "'\\n% curl -H \"Content-Type: application/json\" -d \"{\"job\": \"retired\", \"duration\": 445, \"poutcome\": \"success\"}\" http://localhost:5000/predict\\n\\n{\"approval\":true,\"credit_probability\":0.9019309332297606}\\n'"
      ]
     },
     "execution_count": 1,
     "metadata": {},
     "output_type": "execute_result"
    }
   ],
   "source": [
    "# Q6\n",
    "'''\n",
    "% curl -H \"Content-Type: application/json\" -d \"{\\\"job\\\": \\\"retired\\\", \\\"duration\\\": 445, \\\"poutcome\\\": \\\"success\\\"}\" http://localhost:5000/predict\n",
    "\n",
    "{\"approval\":true,\"credit_probability\":0.9019309332297606}\n",
    "'''"
   ]
  },
  {
   "cell_type": "code",
   "execution_count": null,
   "id": "65309879",
   "metadata": {},
   "outputs": [],
   "source": []
  }
 ],
 "metadata": {
  "kernelspec": {
   "display_name": "Python 3 (ipykernel)",
   "language": "python",
   "name": "python3"
  },
  "language_info": {
   "codemirror_mode": {
    "name": "ipython",
    "version": 3
   },
   "file_extension": ".py",
   "mimetype": "text/x-python",
   "name": "python",
   "nbconvert_exporter": "python",
   "pygments_lexer": "ipython3",
   "version": "3.11.5"
  }
 },
 "nbformat": 4,
 "nbformat_minor": 5
}
